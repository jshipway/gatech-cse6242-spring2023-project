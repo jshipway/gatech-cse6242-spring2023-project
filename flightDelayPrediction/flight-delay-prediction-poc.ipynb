{
 "cells": [
  {
   "cell_type": "markdown",
   "id": "f72dde28",
   "metadata": {
    "papermill": {
     "duration": 0.038922,
     "end_time": "2022-01-29T13:49:22.664913",
     "exception": false,
     "start_time": "2022-01-29T13:49:22.625991",
     "status": "completed"
    },
    "tags": []
   },
   "source": [
    "# Flight Delay Prediction"
   ]
  },
  {
   "cell_type": "code",
   "execution_count": 1,
   "id": "0ea62301",
   "metadata": {
    "execution": {
     "iopub.execute_input": "2022-01-29T13:49:22.748110Z",
     "iopub.status.busy": "2022-01-29T13:49:22.747143Z",
     "iopub.status.idle": "2022-01-29T13:49:22.755821Z",
     "shell.execute_reply": "2022-01-29T13:49:22.755066Z",
     "shell.execute_reply.started": "2022-01-29T13:44:19.888673Z"
    },
    "papermill": {
     "duration": 0.059027,
     "end_time": "2022-01-29T13:49:22.756018",
     "exception": false,
     "start_time": "2022-01-29T13:49:22.696991",
     "status": "completed"
    },
    "tags": []
   },
   "outputs": [
    {
     "name": "stdout",
     "output_type": "stream",
     "text": [
      "Libraries Imported.\n"
     ]
    }
   ],
   "source": [
    "#import libraries\n",
    "\n",
    "import numpy as np # linear algebra\n",
    "import pandas as pd # data processing, CSV file I/O (e.g. pd.read_csv)\n",
    "import sklearn\n",
    "import math\n",
    "import matplotlib.pyplot as plt\n",
    "\n",
    "print(\"Libraries Imported.\")"
   ]
  },
  {
   "cell_type": "code",
   "execution_count": null,
   "id": "dbb293f4",
   "metadata": {},
   "outputs": [],
   "source": [
    "# todo\n",
    "# remove outliers of flight delay\n",
    "# try PCA to reduce dimensions"
   ]
  },
  {
   "cell_type": "markdown",
   "id": "62c6e1a1",
   "metadata": {},
   "source": [
    "### Declare parameters for data transformation and modeling"
   ]
  },
  {
   "cell_type": "code",
   "execution_count": 78,
   "id": "7334be8e",
   "metadata": {},
   "outputs": [],
   "source": [
    "categorical_cols = ['DAY_OF_WEEK', 'OP_UNIQUE_CARRIER', 'ORIGIN', 'DEST']\n",
    "continuous_cols = ['DEP_TIME', 'ARR_TIME']\n",
    "target_col = 'ARR_DELAY'\n",
    "sample_rate = .25\n",
    "test_data_frac = .20"
   ]
  },
  {
   "cell_type": "markdown",
   "id": "7806d04d",
   "metadata": {
    "papermill": {
     "duration": 0.033976,
     "end_time": "2022-01-29T13:49:23.037967",
     "exception": false,
     "start_time": "2022-01-29T13:49:23.003991",
     "status": "completed"
    },
    "tags": []
   },
   "source": [
    "## Read in BTS Data"
   ]
  },
  {
   "cell_type": "code",
   "execution_count": 61,
   "id": "261ecc08",
   "metadata": {},
   "outputs": [
    {
     "name": "stdout",
     "output_type": "stream",
     "text": [
      "(537902, 39)\n"
     ]
    }
   ],
   "source": [
    "data_raw = pd.read_csv('2022-01-bts-ontime-reporting.csv') #\",index_col=0)\n",
    "print(data_raw.shape)"
   ]
  },
  {
   "cell_type": "markdown",
   "id": "934740b9",
   "metadata": {},
   "source": [
    "### Remove cancelled and diverted flights"
   ]
  },
  {
   "cell_type": "code",
   "execution_count": 62,
   "id": "66a9a1f7",
   "metadata": {},
   "outputs": [
    {
     "name": "stdout",
     "output_type": "stream",
     "text": [
      "(503529, 39)\n"
     ]
    }
   ],
   "source": [
    "data_raw = data_raw[data_raw.CANCELLED == 0]\n",
    "data_raw = data_raw[data_raw.DIVERTED == 0]\n",
    "print(data_raw.shape)"
   ]
  },
  {
   "cell_type": "markdown",
   "id": "f98dba28",
   "metadata": {},
   "source": [
    "### Histogram of delay arrival"
   ]
  },
  {
   "cell_type": "code",
   "execution_count": 63,
   "id": "d4c2db1f",
   "metadata": {
    "scrolled": true
   },
   "outputs": [
    {
     "data": {
      "image/png": "[encoded data removed]",
      "text/plain": [
       "<Figure size 432x288 with 1 Axes>"
      ]
     },
     "metadata": {
      "needs_background": "light"
     },
     "output_type": "display_data"
    }
   ],
   "source": [
    "plt_data = data_raw[data_raw['ARR_DELAY']<240]\n",
    "plt.hist(plt_data['ARR_DELAY'])\n",
    "plt.show() "
   ]
  },
  {
   "cell_type": "markdown",
   "id": "c0f0e8ae",
   "metadata": {},
   "source": [
    "### See unique value count of several input columns"
   ]
  },
  {
   "cell_type": "code",
   "execution_count": 64,
   "id": "e9b74594",
   "metadata": {},
   "outputs": [
    {
     "name": "stdout",
     "output_type": "stream",
     "text": [
      "363\n",
      "339\n",
      "363\n",
      "17\n"
     ]
    }
   ],
   "source": [
    "print(data_raw.DEST_AIRPORT_ID.unique().size)\n",
    "print(data_raw.DEST_CITY_MARKET_ID.unique().size)\n",
    "print(data_raw.DEST.unique().size)\n",
    "print(data_raw.OP_UNIQUE_CARRIER.unique().size)"
   ]
  },
  {
   "cell_type": "markdown",
   "id": "16bba79b",
   "metadata": {},
   "source": [
    "### Sample data to subset rows"
   ]
  },
  {
   "cell_type": "code",
   "execution_count": 65,
   "id": "8c990ff7",
   "metadata": {},
   "outputs": [
    {
     "name": "stdout",
     "output_type": "stream",
     "text": [
      "(125882, 39)\n"
     ]
    }
   ],
   "source": [
    "data_sampled = data_raw.sample(frac=sample_rate, random_state=42)\n",
    "print(data_sampled.shape)"
   ]
  },
  {
   "cell_type": "markdown",
   "id": "3c30b17e",
   "metadata": {},
   "source": [
    "### Subset columns"
   ]
  },
  {
   "cell_type": "code",
   "execution_count": 66,
   "id": "ac1e5f4f",
   "metadata": {},
   "outputs": [
    {
     "name": "stdout",
     "output_type": "stream",
     "text": [
      "        DAY_OF_WEEK OP_UNIQUE_CARRIER ORIGIN DEST  DEP_TIME  ARR_TIME  \\\n",
      "281970            1                DL    LGA  BNA     953.0    1108.0   \n",
      "504162            7                AA    MIA  TPA     911.0    1009.0   \n",
      "215774            4                F9    SWF  MIA    1202.0    1528.0   \n",
      "237699            5                OO    SEA  MFR     935.0    1057.0   \n",
      "97120             4                NK    DEN  FLL    1641.0    2232.0   \n",
      "\n",
      "        ARR_DELAY  \n",
      "281970      148.0  \n",
      "504162      -10.0  \n",
      "215774        9.0  \n",
      "237699       -9.0  \n",
      "97120        77.0  \n",
      "(125882, 7)\n"
     ]
    }
   ],
   "source": [
    "all_cols = categorical_cols + continuous_cols + [target_col]\n",
    "data_trimmed = data_sampled[all_cols]\n",
    "print(data_trimmed.head(5))\n",
    "print(data_trimmed.shape)"
   ]
  },
  {
   "cell_type": "markdown",
   "id": "dc49ad8e",
   "metadata": {},
   "source": [
    "### Check for null departure times and arrival times, create new flight time column"
   ]
  },
  {
   "cell_type": "code",
   "execution_count": 67,
   "id": "97633291",
   "metadata": {},
   "outputs": [
    {
     "name": "stdout",
     "output_type": "stream",
     "text": [
      "0\n",
      "0\n",
      "0\n"
     ]
    }
   ],
   "source": [
    "print(data_trimmed['DEP_TIME'].isnull().sum())\n",
    "print(data_trimmed['ARR_TIME'].isnull().sum())\n",
    "print(data_trimmed['ARR_DELAY'].isnull().sum())"
   ]
  },
  {
   "cell_type": "code",
   "execution_count": 69,
   "id": "601b65c9",
   "metadata": {},
   "outputs": [
    {
     "name": "stdout",
     "output_type": "stream",
     "text": [
      "        DAY_OF_WEEK OP_UNIQUE_CARRIER ORIGIN DEST  DEP_TIME  ARR_TIME  \\\n",
      "281970            1                DL    LGA  BNA     953.0    1108.0   \n",
      "504162            7                AA    MIA  TPA     911.0    1009.0   \n",
      "215774            4                F9    SWF  MIA    1202.0    1528.0   \n",
      "237699            5                OO    SEA  MFR     935.0    1057.0   \n",
      "97120             4                NK    DEN  FLL    1641.0    2232.0   \n",
      "\n",
      "        ARR_DELAY  FLIGHT_TIME  \n",
      "281970      148.0        155.0  \n",
      "504162      -10.0         98.0  \n",
      "215774        9.0        326.0  \n",
      "237699       -9.0        122.0  \n",
      "97120        77.0        591.0  \n",
      "(125882, 8)\n"
     ]
    },
    {
     "name": "stderr",
     "output_type": "stream",
     "text": [
      "C:\\Users\\joship\\AppData\\Local\\Temp\\ipykernel_23748\\3739334324.py:2: SettingWithCopyWarning: \n",
      "A value is trying to be set on a copy of a slice from a DataFrame.\n",
      "Try using .loc[row_indexer,col_indexer] = value instead\n",
      "\n",
      "See the caveats in the documentation: https://pandas.pydata.org/pandas-docs/stable/user_guide/indexing.html#returning-a-view-versus-a-copy\n",
      "  data_trimmed['FLIGHT_TIME'] = data_trimmed['FLIGHT_TIME'].apply(lambda x: x if x >= 0 else 2400 + x)\n"
     ]
    }
   ],
   "source": [
    "#check for flight departing before midnite and landing after midnite\n",
    "data_trimmed['FLIGHT_TIME'] = data_trimmed['FLIGHT_TIME'].apply(lambda x: x if x >= 0 else 2400 + x)\n",
    "print(data_trimmed.head(5))\n",
    "print(data_trimmed.shape)"
   ]
  },
  {
   "cell_type": "markdown",
   "id": "cbec7b9d",
   "metadata": {},
   "source": [
    "### Round times to hour amounts"
   ]
  },
  {
   "cell_type": "code",
   "execution_count": 49,
   "id": "47b3aa22",
   "metadata": {},
   "outputs": [],
   "source": [
    "#transform time columns to nearest hour\n",
    "#data['DEP_TIME'] = round(data['DEP_TIME'] / 100)\n",
    "#data['ARR_TIME'] = round(data['ARR_TIME'] / 100)\n",
    "#print(data.head(10))"
   ]
  },
  {
   "cell_type": "markdown",
   "id": "5ea7bd01",
   "metadata": {},
   "source": [
    "### Show descriptive statistics"
   ]
  },
  {
   "cell_type": "code",
   "execution_count": 80,
   "id": "40d02096",
   "metadata": {},
   "outputs": [
    {
     "data": {
      "text/html": [
       "<div>\n",
       "<style scoped>\n",
       "    .dataframe tbody tr th:only-of-type {\n",
       "        vertical-align: middle;\n",
       "    }\n",
       "\n",
       "    .dataframe tbody tr th {\n",
       "        vertical-align: top;\n",
       "    }\n",
       "\n",
       "    .dataframe thead th {\n",
       "        text-align: right;\n",
       "    }\n",
       "</style>\n",
       "<table border=\"1\" class=\"dataframe\">\n",
       "  <thead>\n",
       "    <tr style=\"text-align: right;\">\n",
       "      <th></th>\n",
       "      <th>DAY_OF_WEEK</th>\n",
       "      <th>DEP_TIME</th>\n",
       "      <th>ARR_TIME</th>\n",
       "      <th>ARR_DELAY</th>\n",
       "      <th>FLIGHT_TIME</th>\n",
       "    </tr>\n",
       "  </thead>\n",
       "  <tbody>\n",
       "    <tr>\n",
       "      <th>count</th>\n",
       "      <td>125882.000000</td>\n",
       "      <td>125882.000000</td>\n",
       "      <td>125882.000000</td>\n",
       "      <td>125882.000000</td>\n",
       "      <td>125882.000000</td>\n",
       "    </tr>\n",
       "    <tr>\n",
       "      <th>mean</th>\n",
       "      <td>3.999460</td>\n",
       "      <td>1332.912331</td>\n",
       "      <td>1480.490491</td>\n",
       "      <td>4.120057</td>\n",
       "      <td>240.369823</td>\n",
       "    </tr>\n",
       "    <tr>\n",
       "      <th>std</th>\n",
       "      <td>2.076446</td>\n",
       "      <td>494.717073</td>\n",
       "      <td>525.709620</td>\n",
       "      <td>52.285135</td>\n",
       "      <td>186.821054</td>\n",
       "    </tr>\n",
       "    <tr>\n",
       "      <th>min</th>\n",
       "      <td>1.000000</td>\n",
       "      <td>1.000000</td>\n",
       "      <td>1.000000</td>\n",
       "      <td>-74.000000</td>\n",
       "      <td>0.000000</td>\n",
       "    </tr>\n",
       "    <tr>\n",
       "      <th>25%</th>\n",
       "      <td>2.000000</td>\n",
       "      <td>925.000000</td>\n",
       "      <td>1105.000000</td>\n",
       "      <td>-17.000000</td>\n",
       "      <td>124.000000</td>\n",
       "    </tr>\n",
       "    <tr>\n",
       "      <th>50%</th>\n",
       "      <td>4.000000</td>\n",
       "      <td>1326.000000</td>\n",
       "      <td>1515.000000</td>\n",
       "      <td>-8.000000</td>\n",
       "      <td>198.000000</td>\n",
       "    </tr>\n",
       "    <tr>\n",
       "      <th>75%</th>\n",
       "      <td>6.000000</td>\n",
       "      <td>1736.750000</td>\n",
       "      <td>1917.000000</td>\n",
       "      <td>7.000000</td>\n",
       "      <td>294.000000</td>\n",
       "    </tr>\n",
       "    <tr>\n",
       "      <th>max</th>\n",
       "      <td>7.000000</td>\n",
       "      <td>2400.000000</td>\n",
       "      <td>2400.000000</td>\n",
       "      <td>2080.000000</td>\n",
       "      <td>2399.000000</td>\n",
       "    </tr>\n",
       "  </tbody>\n",
       "</table>\n",
       "</div>"
      ],
      "text/plain": [
       "         DAY_OF_WEEK       DEP_TIME       ARR_TIME      ARR_DELAY  \\\n",
       "count  125882.000000  125882.000000  125882.000000  125882.000000   \n",
       "mean        3.999460    1332.912331    1480.490491       4.120057   \n",
       "std         2.076446     494.717073     525.709620      52.285135   \n",
       "min         1.000000       1.000000       1.000000     -74.000000   \n",
       "25%         2.000000     925.000000    1105.000000     -17.000000   \n",
       "50%         4.000000    1326.000000    1515.000000      -8.000000   \n",
       "75%         6.000000    1736.750000    1917.000000       7.000000   \n",
       "max         7.000000    2400.000000    2400.000000    2080.000000   \n",
       "\n",
       "         FLIGHT_TIME  \n",
       "count  125882.000000  \n",
       "mean      240.369823  \n",
       "std       186.821054  \n",
       "min         0.000000  \n",
       "25%       124.000000  \n",
       "50%       198.000000  \n",
       "75%       294.000000  \n",
       "max      2399.000000  "
      ]
     },
     "execution_count": 80,
     "metadata": {},
     "output_type": "execute_result"
    }
   ],
   "source": [
    "data_trimmed.describe()"
   ]
  },
  {
   "cell_type": "markdown",
   "id": "e6098cc6",
   "metadata": {},
   "source": [
    "### Perform one hot encoding on categorical columns"
   ]
  },
  {
   "cell_type": "code",
   "execution_count": 75,
   "id": "2c822a33",
   "metadata": {},
   "outputs": [
    {
     "name": "stdout",
     "output_type": "stream",
     "text": [
      "(125882, 751)\n"
     ]
    }
   ],
   "source": [
    "data_encoded = pd.get_dummies(data_trimmed, columns = categorical_cols)\n",
    "data_encoded = data_encoded.fillna(0)\n",
    "print(data_encoded.shape)"
   ]
  },
  {
   "cell_type": "markdown",
   "id": "dfd952e7",
   "metadata": {},
   "source": [
    "## Split prepped data into train and test"
   ]
  },
  {
   "cell_type": "code",
   "execution_count": 79,
   "id": "4dd54009",
   "metadata": {},
   "outputs": [
    {
     "name": "stdout",
     "output_type": "stream",
     "text": [
      "(100705, 750)\n",
      "(25177, 750)\n",
      "(100705,)\n"
     ]
    }
   ],
   "source": [
    "from sklearn.model_selection import train_test_split\n",
    "\n",
    "x_train, x_valid, y_train, y_valid = train_test_split(data_encoded.drop(target_col,axis=1),data_encoded[target_col],test_size = test_data_frac)\n",
    "\n",
    "print(x_train.shape)\n",
    "print(x_valid.shape)\n",
    "print(y_train.shape)"
   ]
  },
  {
   "cell_type": "markdown",
   "id": "7cfb9243",
   "metadata": {
    "papermill": {
     "duration": 0.033215,
     "end_time": "2022-01-29T13:49:50.503022",
     "exception": false,
     "start_time": "2022-01-29T13:49:50.469807",
     "status": "completed"
    },
    "tags": []
   },
   "source": [
    "### Linear Regression"
   ]
  },
  {
   "cell_type": "code",
   "execution_count": 89,
   "id": "ae733107",
   "metadata": {},
   "outputs": [
    {
     "name": "stdout",
     "output_type": "stream",
     "text": [
      "Linear Regression RMSE 50.63702080727348\n"
     ]
    }
   ],
   "source": [
    "from sklearn.linear_model import LinearRegression\n",
    "\n",
    "regr = LinearRegression()\n",
    "regr.fit(x_train, y_train)\n",
    "y_pred = regr.predict(x_valid)\n",
    "#y_pred = y_pred.round()\n",
    "mse = sklearn.metrics.mean_squared_error(y_valid, y_pred)\n",
    "rmse = math.sqrt(mse)\n",
    "print(\"Linear Regression RMSE\", rmse)"
   ]
  },
  {
   "cell_type": "code",
   "execution_count": 83,
   "id": "6331eb7e",
   "metadata": {},
   "outputs": [
    {
     "data": {
      "text/plain": [
       "array([ -4.94776917,  -8.14936447,  -6.73706436, ..., -11.23014069,\n",
       "        -7.06900406,   5.26227951])"
      ]
     },
     "execution_count": 83,
     "metadata": {},
     "output_type": "execute_result"
    }
   ],
   "source": [
    "y_pred"
   ]
  },
  {
   "cell_type": "code",
   "execution_count": 84,
   "id": "60a73c57",
   "metadata": {},
   "outputs": [
    {
     "data": {
      "text/plain": [
       "377590    -7.0\n",
       "246641    -8.0\n",
       "145914   -27.0\n",
       "434826    -7.0\n",
       "51425     60.0\n",
       "          ... \n",
       "308103     0.0\n",
       "268014   -23.0\n",
       "309514   -17.0\n",
       "196556    -9.0\n",
       "307611   -22.0\n",
       "Name: ARR_DELAY, Length: 25177, dtype: float64"
      ]
     },
     "execution_count": 84,
     "metadata": {},
     "output_type": "execute_result"
    }
   ],
   "source": [
    "y_valid"
   ]
  },
  {
   "cell_type": "markdown",
   "id": "50545b55",
   "metadata": {},
   "source": [
    "### Decision Tree Regressor"
   ]
  },
  {
   "cell_type": "code",
   "execution_count": 95,
   "id": "2534c827",
   "metadata": {},
   "outputs": [
    {
     "name": "stdout",
     "output_type": "stream",
     "text": [
      "Decision Tree RMSE 49.98316076005113\n"
     ]
    }
   ],
   "source": [
    "from sklearn.tree import DecisionTreeRegressor\n",
    "# Fit regression model\n",
    "\n",
    "regr = DecisionTreeRegressor(max_depth=5)\n",
    "regr.fit(x_train, y_train)\n",
    "\n",
    "# Predict\n",
    "y_pred_dt = regr.predict(x_valid)\n",
    "mse = sklearn.metrics.mean_squared_error(y_valid, y_pred_dt)\n",
    "rmse = math.sqrt(mse)\n",
    "print(\"Decision Tree RMSE\", rmse)"
   ]
  },
  {
   "cell_type": "markdown",
   "id": "fbdb7188",
   "metadata": {},
   "source": [
    "### Random Forest Regression"
   ]
  },
  {
   "cell_type": "code",
   "execution_count": 96,
   "id": "5c22db78",
   "metadata": {},
   "outputs": [
    {
     "name": "stdout",
     "output_type": "stream",
     "text": [
      "Random Forest Regression RMSE 48.26004884052771\n"
     ]
    }
   ],
   "source": [
    "from sklearn.ensemble import RandomForestRegressor\n",
    "  \n",
    " # create regressor object\n",
    "regressor = RandomForestRegressor(n_estimators = 300, random_state = 0, max_features=40)\n",
    "  \n",
    "# fit the regressor with x and y data\n",
    "regressor.fit(x_train, y_train) \n",
    "# validate model\n",
    "y_pred_rf = regressor.predict(x_valid)\n",
    "mse = sklearn.metrics.mean_squared_error(y_valid, y_pred_rf)\n",
    "rmse = math.sqrt(mse)\n",
    "print(\"Random Forest Regression RMSE\", rmse)"
   ]
  },
  {
   "cell_type": "markdown",
   "id": "b96e3287",
   "metadata": {},
   "source": [
    "### Gradient Boosting Regression"
   ]
  },
  {
   "cell_type": "code",
   "execution_count": null,
   "id": "5b746d3a",
   "metadata": {},
   "outputs": [],
   "source": [
    "from sklearn.ensemble import GradientBoostingRegressor\n",
    "\n",
    "reg = GradientBoostingRegressor(random_state=0)\n",
    "reg.fit(x_train, y_train)\n",
    "\n",
    "y_pred_gb = reg.predict(x_test)\n",
    "mse = sklearn.metrics.mean_squared_error(y_valid, y_pred_gb)\n",
    "rmse = math.sqrt(mse)\n",
    "print(\"Gradient Boosting Regression RMSE\", rmse)"
   ]
  },
  {
   "cell_type": "markdown",
   "id": "a991e2af",
   "metadata": {},
   "source": [
    "### Neural Network Regression"
   ]
  },
  {
   "cell_type": "code",
   "execution_count": null,
   "id": "7189910c",
   "metadata": {},
   "outputs": [],
   "source": [
    "from sklearn.neural_network import MLPRegressor\n",
    "from sklearn.datasets import make_regression\n",
    "from sklearn.model_selection import train_test_split\n",
    "\n",
    "regr = MLPRegressor(random_state=1, max_iter=600).fit(x_train, y_train)\n",
    "y_pred_nn = regr.predict(x_valid)\n",
    "mse = sklearn.metrics.mean_squared_error(y_valid, y_pred_nn)\n",
    "rmse = math.sqrt(mse)\n",
    "print(\"Neural Network Regression RMSE\", rmse)"
   ]
  }
 ],
 "metadata": {
  "kernelspec": {
   "display_name": "Python 3 (ipykernel)",
   "language": "python",
   "name": "python3"
  },
  "language_info": {
   "codemirror_mode": {
    "name": "ipython",
    "version": 3
   },
   "file_extension": ".py",
   "mimetype": "text/x-python",
   "name": "python",
   "nbconvert_exporter": "python",
   "pygments_lexer": "ipython3",
   "version": "3.9.12"
  },
  "papermill": {
   "default_parameters": {},
   "duration": 3587.753384,
   "end_time": "2022-01-29T14:48:59.850061",
   "environment_variables": {},
   "exception": null,
   "input_path": "__notebook__.ipynb",
   "output_path": "__notebook__.ipynb",
   "parameters": {},
   "start_time": "2022-01-29T13:49:12.096677",
   "version": "2.3.3"
  }
 },
 "nbformat": 4,
 "nbformat_minor": 5
}
